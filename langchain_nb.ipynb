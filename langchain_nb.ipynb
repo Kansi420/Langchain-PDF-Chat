{
 "cells": [
  {
   "cell_type": "code",
   "execution_count": 2,
   "metadata": {},
   "outputs": [],
   "source": [
    "#https://github.com/gkamradt/langchain-tutorials/blob/main/LangChain%20Cookbook.ipynb \n",
    "import os\n",
    "from langchain.chat_models import ChatOpenAI\n",
    "from langchain.schema import HumanMessage, SystemMessage, AIMessage\n",
    "\n",
    "openai_api_key = ''"
   ]
  },
  {
   "cell_type": "code",
   "execution_count": 3,
   "metadata": {},
   "outputs": [],
   "source": [
    "chat = ChatOpenAI(temperature=.7, openai_api_key=openai_api_key)"
   ]
  },
  {
   "cell_type": "code",
   "execution_count": 4,
   "metadata": {},
   "outputs": [
    {
     "data": {
      "text/plain": [
       "AIMessage(content='You could try a caprese salad with fresh tomatoes, mozzarella, and basil!', additional_kwargs={})"
      ]
     },
     "execution_count": 4,
     "metadata": {},
     "output_type": "execute_result"
    }
   ],
   "source": [
    "chat(\n",
    "    [\n",
    "        SystemMessage(content=\"You are a nice AI bot that helps a user figure out what to eat in one short sentence\"),\n",
    "        HumanMessage(content=\"I like tomatoes, what should I eat?\")\n",
    "    ]\n",
    ")"
   ]
  },
  {
   "cell_type": "code",
   "execution_count": 12,
   "metadata": {},
   "outputs": [
    {
     "data": {
      "text/plain": [
       "AIMessage(content='You can explore the charming old town, visit the famous Promenade des Anglais, and take a day trip to the nearby village of Eze.', additional_kwargs={})"
      ]
     },
     "execution_count": 12,
     "metadata": {},
     "output_type": "execute_result"
    }
   ],
   "source": [
    "chat(\n",
    "    [\n",
    "        SystemMessage(content=\"You are a nice AI bot that helps a user figure out where to travel in one short sentence\"),\n",
    "        HumanMessage(content=\"I like the beaches where should I go?\"),\n",
    "        AIMessage(content=\"You should go to Nice, France\"),\n",
    "        HumanMessage(content=\"What else should I do when I'm there?\")\n",
    "    ]\n",
    ")"
   ]
  },
  {
   "cell_type": "code",
   "execution_count": 5,
   "metadata": {},
   "outputs": [
    {
     "data": {
      "text/plain": [
       "AIMessage(content='To find the coordinates of vertex D, we can use the fact that opposite sides of a parallelogram are parallel and have the same length. \\n\\nThe vector from A to B is given by: \\n\\n$\\\\vec{AB} = \\\\begin{pmatrix}3-1 \\\\\\\\ 4-1\\\\end{pmatrix} = \\\\begin{pmatrix}2 \\\\\\\\ 3\\\\end{pmatrix}$\\n\\nThe vector from C to B is given by: \\n\\n$\\\\vec{CB} = \\\\begin{pmatrix}3-(-2) \\\\\\\\ 4-8\\\\end{pmatrix} = \\\\begin{pmatrix}5 \\\\\\\\ -4\\\\end{pmatrix}$\\n\\nSince AB and CD are parallel, the vector from D to C must be equal to $\\\\vec{CB}$. Therefore, the coordinates of D can be found by subtracting $\\\\vec{CB}$ from the coordinates of C: \\n\\n$D = C - \\\\vec{CB} = (-2, 8) - \\\\begin{pmatrix}5 \\\\\\\\ -4\\\\end{pmatrix} = (-7, 12)$\\n\\nThus, the coordinates of vertex D are (-7, 12).', additional_kwargs={})"
      ]
     },
     "execution_count": 5,
     "metadata": {},
     "output_type": "execute_result"
    }
   ],
   "source": [
    "chat(\n",
    "    [\n",
    "        SystemMessage(content=\"You are a maths teacher\"),\n",
    "        HumanMessage(content=\"\"\" Let ABCD be a parallelogram such that the \n",
    "                     coordinates of its three vertices A, B, C are (1, 1), (3, 4) and (-2, 8), respectively. \n",
    "                     Then, the coordinates of the vertex D are\"\"\")\n",
    "    ]\n",
    ")"
   ]
  },
  {
   "cell_type": "code",
   "execution_count": null,
   "metadata": {},
   "outputs": [],
   "source": []
  }
 ],
 "metadata": {
  "kernelspec": {
   "display_name": "open_ai",
   "language": "python",
   "name": "python3"
  },
  "language_info": {
   "codemirror_mode": {
    "name": "ipython",
    "version": 3
   },
   "file_extension": ".py",
   "mimetype": "text/x-python",
   "name": "python",
   "nbconvert_exporter": "python",
   "pygments_lexer": "ipython3",
   "version": "3.9.16"
  },
  "orig_nbformat": 4
 },
 "nbformat": 4,
 "nbformat_minor": 2
}
